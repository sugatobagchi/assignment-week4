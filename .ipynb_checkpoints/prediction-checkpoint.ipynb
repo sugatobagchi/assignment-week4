{
 "cells": [
  {
   "cell_type": "code",
   "execution_count": null,
   "id": "a74a2d8d",
   "metadata": {
    "vscode": {
     "languageId": "plaintext"
    }
   },
   "outputs": [],
   "source": [
    "import pandas as pd\n",
    "from mlxtend.frequent_patterns import apriori, association_rules\n",
    "from sklearn.preprocessing import KBinsDiscretizer\n",
    "\n",
    "# Load dataset\n",
    "df = pd.read_csv('customer_data.csv')\n",
    "\n",
    "# Step 1: Preprocess the data\n",
    "# Discretize continuous features (Income, MntWines, MntMeatProducts, etc.)\n",
    "continuous_features = ['Income', 'MntWines', 'MntFruits', 'MntMeatProducts', 'MntFishProducts', 'MntSweetProducts', 'MntGoldProds']\n",
    "\n",
    "# Use KBinsDiscretizer to categorize the continuous variables into bins\n",
    "discretizer = KBinsDiscretizer(n_bins=3, encode='ordinal', strategy='uniform')\n",
    "df[continuous_features] = discretizer.fit_transform(df[continuous_features])\n",
    "\n",
    "# Convert categorical features to one-hot encoded columns\n",
    "categorical_features = ['Education', 'Marital_Status']\n",
    "df = pd.get_dummies(df, columns=categorical_features)\n",
    "\n",
    "# Binary features don't need any transformation\n",
    "# Step 2: Perform Apriori algorithm\n",
    "# Select the relevant columns for rule mining (including the one-hot encoded and discretized features)\n",
    "features = ['Income', 'MntWines', 'MntMeatProducts', 'MntFishProducts', 'MntGoldProds', 'NumDealsPurchases',\n",
    "            'AcceptedCmp1', 'AcceptedCmp2', 'AcceptedCmp3', 'AcceptedCmp4', 'AcceptedCmp5', 'Response', \n",
    "            'NumWebPurchases', 'NumCatalogPurchases', 'NumStorePurchases', 'NumWebVisitsMonth', 'Complain']\n",
    "features += list(df.columns[df.columns.str.contains('Education_')])\n",
    "features += list(df.columns[df.columns.str.contains('Marital_Status_')])\n",
    "\n",
    "# Apply the Apriori algorithm\n",
    "frequent_itemsets = apriori(df[features], min_support=0.01, use_colnames=True)\n",
    "\n",
    "# Step 3: Generate association rules\n",
    "rules = association_rules(frequent_itemsets, metric=\"confidence\", min_threshold=0.5)\n",
    "\n",
    "# Step 4: Sort and rank the rules by lift, confidence, and support\n",
    "rules_sorted = rules.sort_values(by=['lift', 'confidence', 'support'], ascending=False)\n",
    "\n",
    "# Save the sorted rules to CSV for further analysis\n",
    "rules_csv_path = 'customer_association_rules.csv'\n",
    "rules_sorted.to_csv(rules_csv_path, index=False)\n",
    "print(f\"Sorted association rules saved as {rules_csv_path}\")\n",
    "\n",
    "# Print top 10 rules\n",
    "print(rules_sorted.head(10))\n"
   ]
  },
  {
   "cell_type": "code",
   "execution_count": null,
   "id": "f5360fe7",
   "metadata": {
    "vscode": {
     "languageId": "plaintext"
    }
   },
   "outputs": [],
   "source": []
  }
 ],
 "metadata": {
  "kernelspec": {
   "display_name": "Python 3 (ipykernel)",
   "language": "python",
   "name": "python3"
  },
  "language_info": {
   "codemirror_mode": {
    "name": "ipython",
    "version": 3
   },
   "file_extension": ".py",
   "mimetype": "text/x-python",
   "name": "python",
   "nbconvert_exporter": "python",
   "pygments_lexer": "ipython3",
   "version": "3.12.3"
  }
 },
 "nbformat": 4,
 "nbformat_minor": 5
}
